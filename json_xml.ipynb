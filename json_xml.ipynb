{
 "cells": [
  {
   "cell_type": "code",
   "execution_count": 149,
   "metadata": {},
   "outputs": [],
   "source": [
    "def make_annotations(data):\n",
    "    zind = 0\n",
    "    for z in data:\n",
    "        filename = data[zind][\"path\"]\n",
    "        basename, file_extension = os.path.splitext(filename)\n",
    "        f = open(basename + '.xml','w') \n",
    "        line = \"<annotation>\" + '\\n'\n",
    "        f.write(line)\n",
    "        line = '\\t\\t<folder>' + data[zind]['folder'] + '</folder>' + '\\n'\n",
    "        f.write(line)\n",
    "        line = '\\t\\t<filename>' + data[zind]['filename'] + '</filename>' + '\\n'\n",
    "        f.write(line)\n",
    "        line = '\\t\\t<path>' + data[zind]['path'] + '</path>' + '\\n'\n",
    "        f.write(line)\n",
    "        line = '\\t\\t<source>\\n\\t\\t\\t<database>Unknown</database>\\n\\t\\t</source>\\n'\n",
    "        f.write(line)\n",
    "#         line = '\\t<size>\\n\\t\\t<width>'+ str(data[zind]['width']) + '</width>\\n\\t\\t<height>' + str(data[zind]['height']) + '</height>\\n\\t'\n",
    "#         line += '\\t<depth>' + str(data[zind]['depth']) + '</depth>\\n\\t</size>'\n",
    "#         f.write(line)\n",
    "        line = '\\n\\t<segmented>0</segmented>'\n",
    "        f.write(line)\n",
    "        \n",
    "        ind = 0\n",
    "        for i in data[zind][\"annotations\"]:\n",
    "            line = '\\n\\t<object>'\n",
    "            line += '\\n\\t\\t<name>' + i[0] + '</name>\\n\\t\\t<pose>0</pose>'\n",
    "            line += '\\n\\t\\t<truncated>0</truncated>\\n\\t\\t<difficult>0</difficult>'\n",
    "            xmin = (i[1])\n",
    "            line += '\\n\\t\\t<bndbox>\\n\\t\\t\\t<xmin>' + str(xmin) + '</xmin>'\n",
    "            xmax = (i[2])\n",
    "            line += '\\n\\t\\t\\t<xmax>' + str(xmax) + '</xmax>'\n",
    "            ymin = (i[3])\n",
    "            line += '\\n\\t\\t\\t<ymin>' + str(ymin) + '</ymin>'\n",
    "            ymax = (i[4])\n",
    "            line += '\\n\\t\\t\\t<ymax>' + str(ymax) + '</ymax>'\n",
    "            line += '\\n\\t\\t</bndbox>'\n",
    "            line += '\\n\\t</object>'     \n",
    "            f.write(line)\n",
    "            ind +=1\n",
    "        line += \"\\n<annotation>\" + '\\n'\n",
    "        f.write(line)\n",
    "        f.close()\n",
    "        zind +=1"
   ]
  },
  {
   "cell_type": "code",
   "execution_count": 150,
   "metadata": {},
   "outputs": [
    {
     "name": "stdout",
     "output_type": "stream",
     "text": [
      "0\n",
      "1\n",
      "2\n",
      "3\n",
      "4\n",
      "5\n",
      "6\n",
      "7\n"
     ]
    }
   ],
   "source": [
    "make_annotations(new_data)"
   ]
  },
  {
   "cell_type": "code",
   "execution_count": null,
   "metadata": {},
   "outputs": [],
   "source": []
  },
  {
   "cell_type": "code",
   "execution_count": null,
   "metadata": {},
   "outputs": [],
   "source": []
  },
  {
   "cell_type": "code",
   "execution_count": null,
   "metadata": {},
   "outputs": [],
   "source": []
  },
  {
   "cell_type": "code",
   "execution_count": 84,
   "metadata": {},
   "outputs": [],
   "source": [
    "import glob \n",
    "import json\n",
    "import cv2\n",
    "json_folder = 'sample_img/sub_images/out/'\n",
    "json_files = glob.glob(json_folder+\"/*\")"
   ]
  },
  {
   "cell_type": "code",
   "execution_count": 119,
   "metadata": {},
   "outputs": [],
   "source": [
    "new_data = []\n",
    "for file in json_files:\n",
    "    \n",
    "    temp_dict = {}\n",
    "    with open(file) as f:\n",
    "        data = json.load(f)\n",
    "        image_name = data[0]\n",
    "        folder,_,filename = image_name.split(\"/\")\n",
    "        path = image_name\n",
    "#         path = os.path.join(\"/bv/naveen/MobileNet_Keras/\",image_name)\n",
    "\n",
    "        temp_dict['folder'] = folder\n",
    "        temp_dict['filename'] = filename\n",
    "        temp_dict['path'] = path\n",
    "\n",
    "#         im = cv2.imread(filename)\n",
    "#         h,w,d = im.shape\n",
    "#         temp_dict['height'] = h\n",
    "#         temp_dict['width'] = w\n",
    "#         temp_dict['depth'] = d\n",
    "        \n",
    "        temp_dict['annotations'] = []\n",
    "        # if any annotations exist\n",
    "        if(len(data)):\n",
    "        \n",
    "            for i in range(1,len(data)):\n",
    "\n",
    "                temp_label = data[i]\n",
    "                label = temp_label['label']\n",
    "                xmin = temp_label['topleft']['x']\n",
    "                ymin = temp_label['topleft']['y']\n",
    "                xmax = temp_label['bottomright']['x']\n",
    "                ymax = temp_label['bottomright']['y']\n",
    "\n",
    "                temp_dict['annotations'].append([label,xmin,xmax,ymin,ymax])\n",
    "            \n",
    "    new_data.append(temp_dict)"
   ]
  },
  {
   "cell_type": "code",
   "execution_count": 120,
   "metadata": {},
   "outputs": [
    {
     "data": {
      "text/plain": [
       "[{'annotations': [['bird', 142, 615, 87, 446]],\n",
       "  'filename': 'sample_eagle.jpg',\n",
       "  'folder': 'sample_img',\n",
       "  'path': 'sample_img/sub_images/sample_eagle.jpg'},\n",
       " {'annotations': [['person', 191, 275, 93, 380],\n",
       "   ['dog', 60, 199, 263, 351],\n",
       "   ['horse', 403, 601, 132, 344]],\n",
       "  'filename': 'sample_person.jpg',\n",
       "  'folder': 'sample_img',\n",
       "  'path': 'sample_img/sub_images/sample_person.jpg'},\n",
       " {'annotations': [['horse', 0, 158, 186, 341],\n",
       "   ['horse', 0, 336, 190, 412],\n",
       "   ['horse', 235, 428, 197, 371],\n",
       "   ['horse', 437, 603, 210, 348]],\n",
       "  'filename': 'sample_horses.jpg',\n",
       "  'folder': 'sample_img',\n",
       "  'path': 'sample_img/sub_images/sample_horses.jpg'},\n",
       " {'annotations': [['tvmonitor', 165, 349, 91, 275],\n",
       "   ['keyboard', 121, 349, 255, 372]],\n",
       "  'filename': 'sample_computer.jpg',\n",
       "  'folder': 'sample_img',\n",
       "  'path': 'sample_img/sub_images/sample_computer.jpg'},\n",
       " {'annotations': [['bicycle', 130, 567, 126, 433],\n",
       "   ['truck', 439, 705, 81, 171],\n",
       "   ['dog', 123, 325, 223, 527]],\n",
       "  'filename': 'sample_dog.jpg',\n",
       "  'folder': 'sample_img',\n",
       "  'path': 'sample_img/sub_images/sample_dog.jpg'},\n",
       " {'annotations': [['person', 506, 895, 882, 1607],\n",
       "   ['person', 3247, 3816, 822, 1882],\n",
       "   ['person', 2825, 3117, 1003, 1806],\n",
       "   ['chair', 959, 1588, 1774, 2483]],\n",
       "  'filename': 'sample_office.jpg',\n",
       "  'folder': 'sample_img',\n",
       "  'path': 'sample_img/sub_images/sample_office.jpg'},\n",
       " {'annotations': [['zebra', 291, 430, 197, 451],\n",
       "   ['giraffe', 171, 453, 29, 422]],\n",
       "  'filename': 'sample_giraffe.jpg',\n",
       "  'folder': 'sample_img',\n",
       "  'path': 'sample_img/sub_images/sample_giraffe.jpg'},\n",
       " {'annotations': [],\n",
       "  'filename': 'sample_scream.jpg',\n",
       "  'folder': 'sample_img',\n",
       "  'path': 'sample_img/sub_images/sample_scream.jpg'}]"
      ]
     },
     "execution_count": 120,
     "metadata": {},
     "output_type": "execute_result"
    }
   ],
   "source": [
    "new_data"
   ]
  },
  {
   "cell_type": "code",
   "execution_count": null,
   "metadata": {},
   "outputs": [],
   "source": []
  }
 ],
 "metadata": {
  "kernelspec": {
   "display_name": "Python 3",
   "language": "python",
   "name": "python3"
  },
  "language_info": {
   "codemirror_mode": {
    "name": "ipython",
    "version": 3
   },
   "file_extension": ".py",
   "mimetype": "text/x-python",
   "name": "python",
   "nbconvert_exporter": "python",
   "pygments_lexer": "ipython3",
   "version": "3.5.2"
  }
 },
 "nbformat": 4,
 "nbformat_minor": 2
}
