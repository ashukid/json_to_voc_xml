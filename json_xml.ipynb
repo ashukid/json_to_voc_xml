{
 "cells": [
  {
   "cell_type": "code",
   "execution_count": 2,
   "metadata": {},
   "outputs": [],
   "source": [
    "import glob \n",
    "import json\n",
    "import cv2\n",
    "import os\n",
    "json_folder = 'sample_img/sub_images/out/'\n",
    "json_files = glob.glob(json_folder+\"/*\")"
   ]
  },
  {
   "cell_type": "code",
   "execution_count": 9,
   "metadata": {},
   "outputs": [],
   "source": [
    "def make_annotations(data):\n",
    "    for zind in range(len(data)):\n",
    "        filename = data[zind][\"path\"]\n",
    "        basename, file_extension = os.path.splitext(filename)\n",
    "        f = open(basename + '.xml','w') \n",
    "        line = \"<annotation>\" + '\\n'\n",
    "        f.write(line)\n",
    "        line = '\\t\\t<folder>' + data[zind]['folder'] + '</folder>' + '\\n'\n",
    "        f.write(line)\n",
    "        line = '\\t\\t<filename>' + data[zind]['filename'] + '</filename>' + '\\n'\n",
    "        f.write(line)\n",
    "        line = '\\t\\t<path>' + data[zind]['path'] + '</path>' + '\\n'\n",
    "        f.write(line)\n",
    "        line = '\\t\\t<source>\\n\\t\\t\\t<database>Unknown</database>\\n\\t\\t</source>\\n'\n",
    "        f.write(line)\n",
    "        line = '\\t<size>\\n\\t\\t<width>'+ str(data[zind]['width']) + '</width>\\n\\t\\t<height>' + str(data[zind]['height']) + '</height>\\n\\t'\n",
    "        line += '\\t<depth>' + str(data[zind]['depth']) + '</depth>\\n\\t</size>'\n",
    "        f.write(line)\n",
    "        line = '\\n\\t<segmented>0</segmented>'\n",
    "        f.write(line)\n",
    "        \n",
    "        total_index = len(data[zind][\"annotations\"])\n",
    "        for ind in range(total_index):\n",
    "            i = data[zind][\"annotations\"][ind]\n",
    "            line = '\\n\\t<object>'\n",
    "            line += '\\n\\t\\t<name>' + i[0] + '</name>\\n\\t\\t<pose>0</pose>'\n",
    "            line += '\\n\\t\\t<truncated>0</truncated>\\n\\t\\t<difficult>0</difficult>'\n",
    "            xmin = (i[1])\n",
    "            line += '\\n\\t\\t<bndbox>\\n\\t\\t\\t<xmin>' + str(xmin) + '</xmin>'\n",
    "            xmax = (i[2])\n",
    "            line += '\\n\\t\\t\\t<xmax>' + str(xmax) + '</xmax>'\n",
    "            ymin = (i[3])\n",
    "            line += '\\n\\t\\t\\t<ymin>' + str(ymin) + '</ymin>'\n",
    "            ymax = (i[4])\n",
    "            line += '\\n\\t\\t\\t<ymax>' + str(ymax) + '</ymax>'\n",
    "            line += '\\n\\t\\t</bndbox>'\n",
    "            line += '\\n\\t</object>'     \n",
    "            f.write(line)\n",
    "            ind += 1\n",
    "\n",
    "        line = \"\\n<annotation>\" + '\\n'\n",
    "        f.write(line)\n",
    "        f.close()\n",
    "        zind +=1"
   ]
  },
  {
   "cell_type": "code",
   "execution_count": 4,
   "metadata": {},
   "outputs": [],
   "source": [
    "new_data = []\n",
    "for file in json_files:\n",
    "    \n",
    "    temp_dict = {}\n",
    "    with open(file) as f:\n",
    "        data = json.load(f)\n",
    "        image_name = data[0]\n",
    "        folder,_,filename = image_name.split(\"/\")\n",
    "        path = image_name\n",
    "#         path = os.path.join(\"/bv/naveen/MobileNet_Keras/\",image_name)\n",
    "\n",
    "        temp_dict['folder'] = folder\n",
    "        temp_dict['filename'] = filename\n",
    "        temp_dict['path'] = path\n",
    "\n",
    "        im = cv2.imread(image_name)\n",
    "        h,w,d = im.shape\n",
    "        temp_dict['height'] = h\n",
    "        temp_dict['width'] = w\n",
    "        temp_dict['depth'] = d\n",
    "        \n",
    "        temp_dict['annotations'] = []\n",
    "        # if any annotations exist\n",
    "        if(len(data)):\n",
    "        \n",
    "            for i in range(1,len(data)):\n",
    "\n",
    "                temp_label = data[i]\n",
    "                label = temp_label['label']\n",
    "                vehicle = ['bicycle','car','motorcycle','bus','train','truck']\n",
    "                animal = ['bird','cat','dog','horse','sheep','cow','elephant','bear','zebra','giraffe']\n",
    "                if(label in vehicle):\n",
    "                    label='vehicle'\n",
    "                elif(label in animal):\n",
    "                    label='animal'\n",
    "                elif(label=='person'):\n",
    "                    label=='person'\n",
    "                else:\n",
    "                    continue\n",
    "                xmin = temp_label['topleft']['x']\n",
    "                ymin = temp_label['topleft']['y']\n",
    "                xmax = temp_label['bottomright']['x']\n",
    "                ymax = temp_label['bottomright']['y']\n",
    "\n",
    "                temp_dict['annotations'].append([label,xmin,xmax,ymin,ymax])\n",
    "                \n",
    "    new_data.append(temp_dict)"
   ]
  },
  {
   "cell_type": "code",
   "execution_count": 10,
   "metadata": {},
   "outputs": [],
   "source": [
    "make_annotations(new_data)"
   ]
  },
  {
   "cell_type": "code",
   "execution_count": null,
   "metadata": {},
   "outputs": [],
   "source": [
    "`"
   ]
  }
 ],
 "metadata": {
  "kernelspec": {
   "display_name": "Python 3",
   "language": "python",
   "name": "python3"
  },
  "language_info": {
   "codemirror_mode": {
    "name": "ipython",
    "version": 3
   },
   "file_extension": ".py",
   "mimetype": "text/x-python",
   "name": "python",
   "nbconvert_exporter": "python",
   "pygments_lexer": "ipython3",
   "version": "3.5.2"
  }
 },
 "nbformat": 4,
 "nbformat_minor": 2
}
